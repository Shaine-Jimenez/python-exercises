{
 "cells": [
  {
   "cell_type": "markdown",
   "id": "db91f76d",
   "metadata": {},
   "source": [
    "### 1. Conditional Basics"
   ]
  },
  {
   "cell_type": "markdown",
   "id": "297ff8b0",
   "metadata": {},
   "source": [
    "* A. Prompt the user for a day of the week, print out whether the day is Monday or not\n",
    "\n"
   ]
  },
  {
   "cell_type": "code",
   "execution_count": 23,
   "id": "ce883d44",
   "metadata": {
    "scrolled": false
   },
   "outputs": [
    {
     "name": "stdout",
     "output_type": "stream",
     "text": [
      "give me day:tuesday\n",
      "it is not monday\n"
     ]
    }
   ],
   "source": [
    "today = input('give me day:')\n",
    "\n",
    "if today.lower() == 'monday':\n",
    "    print('it is monday')\n",
    "else: \n",
    "    print('it is not monday')"
   ]
  },
  {
   "cell_type": "markdown",
   "id": "3a0ace29",
   "metadata": {},
   "source": [
    "* B. Prompt the user for a day of the week, print out whether the day is a weekday or a weekend"
   ]
  },
  {
   "cell_type": "code",
   "execution_count": 24,
   "id": "335b1e4f",
   "metadata": {},
   "outputs": [
    {
     "name": "stdout",
     "output_type": "stream",
     "text": [
      "Weekday or Weekend: Saturday\n",
      "it is the weekend\n"
     ]
    }
   ],
   "source": [
    "day_of_week = input('Weekday or Weekend: ')\n",
    "\n",
    "if day_of_week.lower() == 'saturday':\n",
    "    print('it is the weekend')\n",
    "elif day_of_week.lower() == 'sunday':\n",
    "    print('it is the weekend')\n",
    "else:\n",
    "    print('it is the weekday')"
   ]
  },
  {
   "cell_type": "markdown",
   "id": "775cf706",
   "metadata": {},
   "source": [
    "* Calculate a weekly paycheck, accounting for overtime pay. Create variables and make up values for:\n",
    "    * The number of hours worked in one week\n",
    "    * The hourly rate"
   ]
  },
  {
   "cell_type": "code",
   "execution_count": 3,
   "id": "61ecfb85",
   "metadata": {},
   "outputs": [],
   "source": [
    "num_of_hours = 40\n",
    "hourly_rate = 100\n",
    "\n",
    "if num_of_hours <= 40:\n",
    "    paycheck = num_of_hours * hourly_rate\n",
    "else:\n",
    "    ot_hours = num_of_hours - 40\n",
    "    paychecck = (hourly_rate*40) + (ot_hours*hourly_rate*1.5)"
   ]
  },
  {
   "cell_type": "code",
   "execution_count": 4,
   "id": "1957b603",
   "metadata": {},
   "outputs": [
    {
     "data": {
      "text/plain": [
       "4000"
      ]
     },
     "execution_count": 4,
     "metadata": {},
     "output_type": "execute_result"
    }
   ],
   "source": [
    "paycheck"
   ]
  },
  {
   "cell_type": "markdown",
   "id": "50a57557",
   "metadata": {},
   "source": [
    "* For calculating pay:\n",
    "    * For working 40 hours or less, each hour is paid at the hourly rate\n",
    "    * For working more than 40 hours\n",
    "        * the first 40 hours are paid at the hourly rate\n",
    "        * each hour after 40 is paid at time and a half (hourly rate * 1.5)"
   ]
  },
  {
   "cell_type": "markdown",
   "id": "fc0e57c6",
   "metadata": {},
   "source": [
    "### Loop Basics"
   ]
  },
  {
   "cell_type": "markdown",
   "id": "2747e710",
   "metadata": {},
   "source": [
    "A. While\n",
    "   \n",
    "   * 1. Create an integer variable i with a value of 5. Create a while loop that runs so long as i is less than or equal to 15. Each loop iteration, output the current value of i, then increment i by one."
   ]
  },
  {
   "cell_type": "code",
   "execution_count": 82,
   "id": "8f028431",
   "metadata": {},
   "outputs": [
    {
     "name": "stdout",
     "output_type": "stream",
     "text": [
      "5\n",
      "6\n",
      "7\n",
      "8\n",
      "9\n",
      "10\n",
      "11\n",
      "12\n",
      "13\n",
      "14\n",
      "15\n"
     ]
    }
   ],
   "source": [
    "i = 5\n",
    "while i <= 15:\n",
    "    print(i)\n",
    "    i += 1"
   ]
  },
  {
   "cell_type": "markdown",
   "id": "6e743ce6",
   "metadata": {},
   "source": [
    "* 2. Create a while loop that will count by 2's starting with 0 and ending at 100. Follow each number with a new line."
   ]
  },
  {
   "cell_type": "code",
   "execution_count": 87,
   "id": "98cc4d3a",
   "metadata": {},
   "outputs": [
    {
     "name": "stdout",
     "output_type": "stream",
     "text": [
      "0\n",
      "2\n",
      "4\n",
      "6\n",
      "8\n",
      "10\n",
      "12\n",
      "14\n",
      "16\n",
      "18\n",
      "20\n",
      "22\n",
      "24\n",
      "26\n",
      "28\n",
      "30\n",
      "32\n",
      "34\n",
      "36\n",
      "38\n",
      "40\n",
      "42\n",
      "44\n",
      "46\n",
      "48\n",
      "50\n",
      "52\n",
      "54\n",
      "56\n",
      "58\n",
      "60\n",
      "62\n",
      "64\n",
      "66\n",
      "68\n",
      "70\n",
      "72\n",
      "74\n",
      "76\n",
      "78\n",
      "80\n",
      "82\n",
      "84\n",
      "86\n",
      "88\n",
      "90\n",
      "92\n",
      "94\n",
      "96\n",
      "98\n",
      "100\n"
     ]
    }
   ],
   "source": [
    "i = 0\n",
    "while i <= 100:\n",
    "    print(i)\n",
    "    i += 2"
   ]
  },
  {
   "cell_type": "markdown",
   "id": "e85ec2a5",
   "metadata": {},
   "source": [
    "* 3. Create a while loop that starts at 2, and displays the number squared on each line while the number is less than 1,000,000. Output should equal:"
   ]
  },
  {
   "cell_type": "code",
   "execution_count": 118,
   "id": "8015ccf8",
   "metadata": {},
   "outputs": [
    {
     "name": "stdout",
     "output_type": "stream",
     "text": [
      "2\n",
      "4\n",
      "16\n",
      "256\n",
      "65536\n"
     ]
    }
   ],
   "source": [
    "i = 2\n",
    "while i <= 1_000_000:\n",
    "    print(i)\n",
    "    i **= 2 "
   ]
  },
  {
   "cell_type": "markdown",
   "id": "f61f64ce",
   "metadata": {},
   "source": [
    "* Write a while loop that uses print to create the output shown below.\n",
    "\n"
   ]
  },
  {
   "cell_type": "code",
   "execution_count": 15,
   "id": "03cc26b0",
   "metadata": {},
   "outputs": [
    {
     "name": "stdout",
     "output_type": "stream",
     "text": [
      "100\n",
      "95\n",
      "90\n",
      "85\n",
      "80\n",
      "75\n",
      "70\n",
      "65\n",
      "60\n",
      "55\n",
      "50\n",
      "45\n",
      "40\n",
      "35\n",
      "30\n",
      "25\n",
      "20\n",
      "15\n",
      "10\n",
      "5\n"
     ]
    }
   ],
   "source": [
    "i = 100\n",
    "while i >= 5:\n",
    "    print(i)\n",
    "    i -= 5"
   ]
  },
  {
   "cell_type": "markdown",
   "id": "d8071a28",
   "metadata": {},
   "source": [
    "#### B. For Loops"
   ]
  },
  {
   "cell_type": "markdown",
   "id": "d8355bd9",
   "metadata": {},
   "source": [
    "* i. Write some code using a for loop that prompts the user for a number, then shows a multiplication table up through 10 for that number."
   ]
  },
  {
   "cell_type": "code",
   "execution_count": null,
   "id": "f1726eed",
   "metadata": {},
   "outputs": [],
   "source": [
    "num = int(input (\"Enter any number to multiply: \"))            \n",
    "print (\"The Multiplication Table of: \") \n",
    "\n",
    "for count in range(1, 11):      \n",
    "   print(num, 'x', count, '=', num * count) "
   ]
  },
  {
   "cell_type": "code",
   "execution_count": 2,
   "id": "4ca2e7db",
   "metadata": {},
   "outputs": [],
   "source": [
    "int?"
   ]
  },
  {
   "cell_type": "markdown",
   "id": "93594c87",
   "metadata": {},
   "source": [
    "* Create a for loop that uses print to create the output shown below.\n",
    "\n"
   ]
  },
  {
   "cell_type": "code",
   "execution_count": 1,
   "id": "70377d2f",
   "metadata": {},
   "outputs": [
    {
     "name": "stdout",
     "output_type": "stream",
     "text": [
      "\n",
      "1 \n",
      "2 2 \n",
      "3 3 3 \n",
      "4 4 4 4 \n",
      "5 5 5 5 5 \n",
      "6 6 6 6 6 6 \n",
      "7 7 7 7 7 7 7 \n",
      "8 8 8 8 8 8 8 8 \n",
      "9 9 9 9 9 9 9 9 9 \n"
     ]
    }
   ],
   "source": [
    "rows = 10\n",
    "# if you want user to enter a number, uncomment the below line\n",
    "# rows = int(input('Enter the number of rows'))\n",
    "# outer loop\n",
    "for i in range(rows):\n",
    "    # nested loop\n",
    "    for j in range(i):\n",
    "        # display number\n",
    "        print(i, end=' ')\n",
    "    # new line after each row\n",
    "    print('')"
   ]
  },
  {
   "cell_type": "markdown",
   "id": "3b2498ca",
   "metadata": {},
   "source": [
    "#### C. Break and Continue"
   ]
  },
  {
   "cell_type": "markdown",
   "id": "9c54e711",
   "metadata": {},
   "source": [
    "i. Write a program that prompts the user for a positive integer. Next write a loop that prints out the numbers from the number the user entered down to 1.\n"
   ]
  },
  {
   "cell_type": "code",
   "execution_count": 2,
   "id": "80b4a08c",
   "metadata": {},
   "outputs": [
    {
     "name": "stdout",
     "output_type": "stream",
     "text": [
      "Enter a positive integer: 2\n",
      "2\n",
      "1\n"
     ]
    }
   ],
   "source": [
    "num = int(input(\"Enter a positive integer: \"))\n",
    "\n",
    "for i in range(num,0,-1):\n",
    "    print(i)"
   ]
  },
  {
   "cell_type": "markdown",
   "id": "267bebbe",
   "metadata": {},
   "source": [
    "ii. The input function can be used to prompt for input and use that input in your python code. Prompt the user to enter a positive number and write a loop that counts from 0 to that number. (Hints: note that the input function returns a string, so you'll need to convert this to a numeric type.)\n",
    "\n"
   ]
  },
  {
   "cell_type": "code",
   "execution_count": 1,
   "id": "4e0ee245",
   "metadata": {},
   "outputs": [
    {
     "name": "stdout",
     "output_type": "stream",
     "text": [
      "Enter a number: 5\n",
      "0\n",
      "1\n",
      "2\n",
      "3\n",
      "4\n",
      "5\n"
     ]
    }
   ],
   "source": [
    "num = int(input(\"Enter a number: \"))\n",
    "\n",
    "for i in range(num+1):\n",
    "    print(i)"
   ]
  },
  {
   "cell_type": "markdown",
   "id": "de8a2c19",
   "metadata": {},
   "source": [
    "iii. Prompt the user for an odd number between 1 and 50. Use a loop and a break statement to continue prompting the user if they enter invalid input. (Hint: use the isdigit method on strings to determine this). Use a loop and the continue statement to output all the odd numbers between 1 and 50, except for the number the user entered."
   ]
  },
  {
   "cell_type": "code",
   "execution_count": 3,
   "id": "23ce732a",
   "metadata": {},
   "outputs": [
    {
     "name": "stdout",
     "output_type": "stream",
     "text": [
      "enter a odd muber between 1 and 50: 3\n",
      "1\n",
      "SKIP THIS NUMBER: 3\n",
      "5\n",
      "7\n",
      "9\n",
      "11\n",
      "13\n",
      "15\n",
      "17\n",
      "19\n",
      "21\n",
      "23\n",
      "25\n",
      "27\n",
      "29\n",
      "31\n",
      "33\n",
      "35\n",
      "37\n",
      "39\n",
      "41\n",
      "43\n",
      "45\n",
      "47\n",
      "49\n"
     ]
    }
   ],
   "source": [
    "while True: \n",
    "    num = input('enter a odd muber between 1 and 50: ')\n",
    "    \n",
    "    if num.isdigit() == False:\n",
    "        print('invalid entry. this is not a number.')\n",
    "        continue\n",
    "        \n",
    "    num = int(num)\n",
    "    \n",
    "    if num % 2 == 0:\n",
    "        print('invalid entry. this is EVEN.')\n",
    "        continue\n",
    "        \n",
    "    if num < 1 or num > 50:\n",
    "        print('invalid entry. this is out of range.')\n",
    "        continue \n",
    "    \n",
    "    break\n",
    "    \n",
    "for i in range(1,51,2):\n",
    "    if i == num:\n",
    "        print(f'SKIP THIS NUMBER: {num}')\n",
    "        continue\n",
    "    print(i)"
   ]
  },
  {
   "cell_type": "markdown",
   "id": "fff6b1f6",
   "metadata": {},
   "source": [
    "### 3. Fizzbuzz"
   ]
  },
  {
   "cell_type": "markdown",
   "id": "d146c134",
   "metadata": {},
   "source": [
    "* One of the most common interview questions for entry-level programmers is the FizzBuzz test. Developed by Imran Ghory, the test is designed to test basic looping and conditional logic skills.\n",
    "\n",
    "    * Write a program that prints the numbers from 1 to 100.\n",
    "    * For multiples of three print \"Fizz\" instead of the number\n",
    "    * For the multiples of five print \"Buzz\".\n",
    "    * For numbers which are multiples of both three and five print \"FizzBuzz\"."
   ]
  },
  {
   "cell_type": "code",
   "execution_count": null,
   "id": "6d44b097",
   "metadata": {},
   "outputs": [],
   "source": []
  },
  {
   "cell_type": "code",
   "execution_count": null,
   "id": "a5820931",
   "metadata": {},
   "outputs": [],
   "source": []
  },
  {
   "cell_type": "markdown",
   "id": "e87fcb8e",
   "metadata": {},
   "source": [
    "### 4. Display a table of powers."
   ]
  },
  {
   "cell_type": "markdown",
   "id": "29b47229",
   "metadata": {},
   "source": [
    "* Prompt the user to enter an integer\n",
    "* Display a table of squares and cubes from 1 to the value entered\n",
    "* Ask if the user wants to continue\n",
    "* Assume that the user will enter valid data\n",
    "* Only continue if the user agrees to"
   ]
  },
  {
   "cell_type": "code",
   "execution_count": null,
   "id": "6f2146ff",
   "metadata": {},
   "outputs": [],
   "source": []
  },
  {
   "cell_type": "code",
   "execution_count": null,
   "id": "e750343b",
   "metadata": {},
   "outputs": [],
   "source": []
  },
  {
   "cell_type": "markdown",
   "id": "437f5b29",
   "metadata": {},
   "source": [
    "### 5. Convert given number grades into letter grades.\n",
    "\n"
   ]
  },
  {
   "cell_type": "markdown",
   "id": "7400a5bb",
   "metadata": {},
   "source": [
    "* Prompt the user for a numerical grade from 0 to 100\n",
    "* Display the corresponding letter grade\n",
    "* Prompt the user to continue\n",
    "* Assume that the user will enter valid integers for the grades\n",
    "* The application should only continue if the user agrees to\n",
    "* Grade Ranges:\n",
    "\n",
    "    * A : 100 - 88\n",
    "    * B : 87 - 80\n",
    "    * C : 79 - 67\n",
    "    * D : 66 - 60\n",
    "    * F : 59 - 0"
   ]
  },
  {
   "cell_type": "code",
   "execution_count": null,
   "id": "9a5b01a1",
   "metadata": {},
   "outputs": [],
   "source": []
  },
  {
   "cell_type": "code",
   "execution_count": null,
   "id": "f7e764ef",
   "metadata": {},
   "outputs": [],
   "source": []
  },
  {
   "cell_type": "markdown",
   "id": "d0f79913",
   "metadata": {},
   "source": [
    "### 6. Create a list of dictionaries where each dictionary represents a book that you have read. Each dictionary in the list should have the keys title, author, and genre. Loop through the list and print out information about each book."
   ]
  },
  {
   "cell_type": "markdown",
   "id": "63ab4858",
   "metadata": {},
   "source": [
    "* a. Prompt the user to enter a genre, then loop through your books list and print out the titles of all the books in that genre.\n"
   ]
  },
  {
   "cell_type": "code",
   "execution_count": null,
   "id": "271ffa59",
   "metadata": {},
   "outputs": [],
   "source": []
  },
  {
   "cell_type": "code",
   "execution_count": null,
   "id": "b87a2741",
   "metadata": {},
   "outputs": [],
   "source": []
  }
 ],
 "metadata": {
  "kernelspec": {
   "display_name": "Python 3 (ipykernel)",
   "language": "python",
   "name": "python3"
  },
  "language_info": {
   "codemirror_mode": {
    "name": "ipython",
    "version": 3
   },
   "file_extension": ".py",
   "mimetype": "text/x-python",
   "name": "python",
   "nbconvert_exporter": "python",
   "pygments_lexer": "ipython3",
   "version": "3.9.13"
  }
 },
 "nbformat": 4,
 "nbformat_minor": 5
}
