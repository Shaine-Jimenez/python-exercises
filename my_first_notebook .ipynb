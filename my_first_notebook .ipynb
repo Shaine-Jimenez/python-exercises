{
 "cells": [
  {
   "cell_type": "code",
   "execution_count": 6,
   "id": "fb467817",
   "metadata": {},
   "outputs": [],
   "source": [
    "# this is my first sentence in jupyter notebook"
   ]
  },
  {
   "cell_type": "code",
   "execution_count": 5,
   "id": "0065a727",
   "metadata": {},
   "outputs": [],
   "source": [
    "# to run cell and insert below \"option\" and \"return\""
   ]
  },
  {
   "cell_type": "code",
   "execution_count": null,
   "id": "815afa7d",
   "metadata": {},
   "outputs": [],
   "source": [
    "# to copy cell, \"command\" and \"c\""
   ]
  },
  {
   "cell_type": "code",
   "execution_count": null,
   "id": "9d8f7790",
   "metadata": {},
   "outputs": [],
   "source": [
    "# to past cell, \"command\" and 'v'"
   ]
  }
 ],
 "metadata": {
  "kernelspec": {
   "display_name": "Python 3 (ipykernel)",
   "language": "python",
   "name": "python3"
  },
  "language_info": {
   "codemirror_mode": {
    "name": "ipython",
    "version": 3
   },
   "file_extension": ".py",
   "mimetype": "text/x-python",
   "name": "python",
   "nbconvert_exporter": "python",
   "pygments_lexer": "ipython3",
   "version": "3.9.13"
  }
 },
 "nbformat": 4,
 "nbformat_minor": 5
}
