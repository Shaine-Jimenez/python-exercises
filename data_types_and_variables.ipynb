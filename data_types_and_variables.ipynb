{
 "cells": [
  {
   "cell_type": "markdown",
   "id": "c1351471",
   "metadata": {},
   "source": [
    "#### 1. Identify the data type of the following values:"
   ]
  },
  {
   "cell_type": "code",
   "execution_count": 52,
   "id": "136768b6",
   "metadata": {},
   "outputs": [
    {
     "data": {
      "text/plain": [
       "float"
      ]
     },
     "execution_count": 52,
     "metadata": {},
     "output_type": "execute_result"
    }
   ],
   "source": [
    "type(99.9)\n",
    "# float"
   ]
  },
  {
   "cell_type": "code",
   "execution_count": 51,
   "id": "f89c58f2",
   "metadata": {},
   "outputs": [
    {
     "data": {
      "text/plain": [
       "str"
      ]
     },
     "execution_count": 51,
     "metadata": {},
     "output_type": "execute_result"
    }
   ],
   "source": [
    "(\"False\")\n",
    "#str"
   ]
  },
  {
   "cell_type": "code",
   "execution_count": 54,
   "id": "7d9aed73",
   "metadata": {},
   "outputs": [
    {
     "data": {
      "text/plain": [
       "False"
      ]
     },
     "execution_count": 54,
     "metadata": {},
     "output_type": "execute_result"
    }
   ],
   "source": [
    "False\n",
    "# bool"
   ]
  },
  {
   "cell_type": "code",
   "execution_count": 55,
   "id": "608aeafa",
   "metadata": {},
   "outputs": [
    {
     "data": {
      "text/plain": [
       "str"
      ]
     },
     "execution_count": 55,
     "metadata": {},
     "output_type": "execute_result"
    }
   ],
   "source": [
    "'0'\n",
    "# str"
   ]
  },
  {
   "cell_type": "code",
   "execution_count": 56,
   "id": "fc7425d4",
   "metadata": {},
   "outputs": [
    {
     "data": {
      "text/plain": [
       "int"
      ]
     },
     "execution_count": 56,
     "metadata": {},
     "output_type": "execute_result"
    }
   ],
   "source": [
    "type(0)\n",
    "#int"
   ]
  },
  {
   "cell_type": "code",
   "execution_count": 57,
   "id": "72b364e6",
   "metadata": {},
   "outputs": [
    {
     "data": {
      "text/plain": [
       "bool"
      ]
     },
     "execution_count": 57,
     "metadata": {},
     "output_type": "execute_result"
    }
   ],
   "source": [
    "True\n",
    "#bool"
   ]
  },
  {
   "cell_type": "code",
   "execution_count": null,
   "id": "bb755fb2",
   "metadata": {},
   "outputs": [],
   "source": [
    "'True'\n",
    "#str"
   ]
  },
  {
   "cell_type": "code",
   "execution_count": 58,
   "id": "532bdbd8",
   "metadata": {},
   "outputs": [
    {
     "data": {
      "text/plain": [
       "list"
      ]
     },
     "execution_count": 58,
     "metadata": {},
     "output_type": "execute_result"
    }
   ],
   "source": [
    "([{}])\n",
    "#list"
   ]
  },
  {
   "cell_type": "code",
   "execution_count": 59,
   "id": "67c3cb51",
   "metadata": {},
   "outputs": [
    {
     "data": {
      "text/plain": [
       "dict"
      ]
     },
     "execution_count": 59,
     "metadata": {},
     "output_type": "execute_result"
    }
   ],
   "source": [
    "{'a': []}\n",
    "#dict"
   ]
  },
  {
   "cell_type": "markdown",
   "id": "43ac3f6f",
   "metadata": {},
   "source": [
    "#### 2. What data type would best represent the following?\n"
   ]
  },
  {
   "cell_type": "code",
   "execution_count": 61,
   "id": "769c9fe7",
   "metadata": {},
   "outputs": [],
   "source": [
    "# A term or phrase typed into a search box\n",
    "string"
   ]
  },
  {
   "cell_type": "code",
   "execution_count": null,
   "id": "a1d9f95b",
   "metadata": {},
   "outputs": [],
   "source": [
    "# Whether or not a user is logged in\n",
    "bool"
   ]
  },
  {
   "cell_type": "code",
   "execution_count": null,
   "id": "e3ececf3",
   "metadata": {},
   "outputs": [],
   "source": [
    "# A discount amount to apply to a user's shopping cart\n",
    "float"
   ]
  },
  {
   "cell_type": "code",
   "execution_count": null,
   "id": "5b8fb69b",
   "metadata": {},
   "outputs": [],
   "source": [
    "# Whether or not a coupon code is valid\n",
    "bool "
   ]
  },
  {
   "cell_type": "code",
   "execution_count": null,
   "id": "fa782a72",
   "metadata": {},
   "outputs": [],
   "source": [
    "# An email address typed into a registration form\n",
    "string"
   ]
  },
  {
   "cell_type": "code",
   "execution_count": null,
   "id": "75507385",
   "metadata": {},
   "outputs": [],
   "source": [
    "# The price of a product\n",
    "float"
   ]
  },
  {
   "cell_type": "code",
   "execution_count": null,
   "id": "73d92c39",
   "metadata": {},
   "outputs": [],
   "source": [
    "# The email addresses collected from a registration form\n",
    "list"
   ]
  },
  {
   "cell_type": "code",
   "execution_count": 62,
   "id": "0f649400",
   "metadata": {},
   "outputs": [],
   "source": [
    "# Information about applicants to Codeup's data science program\n",
    "dict"
   ]
  },
  {
   "cell_type": "markdown",
   "id": "d8ccacac",
   "metadata": {},
   "source": [
    "#### 3. For each of the following code blocks:"
   ]
  },
  {
   "cell_type": "code",
   "execution_count": 107,
   "id": "50f12e2d",
   "metadata": {},
   "outputs": [
    {
     "ename": "TypeError",
     "evalue": "can only concatenate str (not \"int\") to str",
     "output_type": "error",
     "traceback": [
      "\u001b[0;31m---------------------------------------------------------------------------\u001b[0m",
      "\u001b[0;31mTypeError\u001b[0m                                 Traceback (most recent call last)",
      "Input \u001b[0;32mIn [107]\u001b[0m, in \u001b[0;36m<cell line: 1>\u001b[0;34m()\u001b[0m\n\u001b[0;32m----> 1\u001b[0m \u001b[38;5;124;43m'\u001b[39;49m\u001b[38;5;124;43m1\u001b[39;49m\u001b[38;5;124;43m'\u001b[39;49m\u001b[43m \u001b[49m\u001b[38;5;241;43m+\u001b[39;49m\u001b[43m \u001b[49m\u001b[38;5;241;43m2\u001b[39;49m\n",
      "\u001b[0;31mTypeError\u001b[0m: can only concatenate str (not \"int\") to str"
     ]
    }
   ],
   "source": [
    "'1' + 2"
   ]
  },
  {
   "cell_type": "code",
   "execution_count": 106,
   "id": "1111cb72",
   "metadata": {},
   "outputs": [
    {
     "data": {
      "text/plain": [
       "2"
      ]
     },
     "execution_count": 106,
     "metadata": {},
     "output_type": "execute_result"
    }
   ],
   "source": [
    "6 % 4\n"
   ]
  },
  {
   "cell_type": "code",
   "execution_count": 108,
   "id": "e79107b1",
   "metadata": {},
   "outputs": [
    {
     "data": {
      "text/plain": [
       "int"
      ]
     },
     "execution_count": 108,
     "metadata": {},
     "output_type": "execute_result"
    }
   ],
   "source": [
    "type(6 % 4)\n"
   ]
  },
  {
   "cell_type": "code",
   "execution_count": 109,
   "id": "12620488",
   "metadata": {},
   "outputs": [
    {
     "data": {
      "text/plain": [
       "type"
      ]
     },
     "execution_count": 109,
     "metadata": {},
     "output_type": "execute_result"
    }
   ],
   "source": [
    "type(type(6 % 4))\n"
   ]
  },
  {
   "cell_type": "code",
   "execution_count": 110,
   "id": "0d5a297b",
   "metadata": {},
   "outputs": [
    {
     "ename": "TypeError",
     "evalue": "can only concatenate str (not \"int\") to str",
     "output_type": "error",
     "traceback": [
      "\u001b[0;31m---------------------------------------------------------------------------\u001b[0m",
      "\u001b[0;31mTypeError\u001b[0m                                 Traceback (most recent call last)",
      "Input \u001b[0;32mIn [110]\u001b[0m, in \u001b[0;36m<cell line: 1>\u001b[0;34m()\u001b[0m\n\u001b[0;32m----> 1\u001b[0m \u001b[38;5;124;43m'\u001b[39;49m\u001b[38;5;124;43m3 + 4 is \u001b[39;49m\u001b[38;5;124;43m'\u001b[39;49m\u001b[43m \u001b[49m\u001b[38;5;241;43m+\u001b[39;49m\u001b[43m \u001b[49m\u001b[38;5;241;43m3\u001b[39;49m \u001b[38;5;241m+\u001b[39m \u001b[38;5;241m4\u001b[39m\n",
      "\u001b[0;31mTypeError\u001b[0m: can only concatenate str (not \"int\") to str"
     ]
    }
   ],
   "source": [
    "'3 + 4 is ' + 3 + 4\n"
   ]
  },
  {
   "cell_type": "code",
   "execution_count": 111,
   "id": "e4f477e6",
   "metadata": {},
   "outputs": [
    {
     "data": {
      "text/plain": [
       "False"
      ]
     },
     "execution_count": 111,
     "metadata": {},
     "output_type": "execute_result"
    }
   ],
   "source": [
    "0 < 0\n"
   ]
  },
  {
   "cell_type": "code",
   "execution_count": 112,
   "id": "0683f098",
   "metadata": {},
   "outputs": [
    {
     "data": {
      "text/plain": [
       "False"
      ]
     },
     "execution_count": 112,
     "metadata": {},
     "output_type": "execute_result"
    }
   ],
   "source": [
    "'False' == False\n"
   ]
  },
  {
   "cell_type": "code",
   "execution_count": 113,
   "id": "7a909c4e",
   "metadata": {},
   "outputs": [
    {
     "data": {
      "text/plain": [
       "False"
      ]
     },
     "execution_count": 113,
     "metadata": {},
     "output_type": "execute_result"
    }
   ],
   "source": [
    "True == 'True'\n"
   ]
  },
  {
   "cell_type": "code",
   "execution_count": 114,
   "id": "862ad467",
   "metadata": {},
   "outputs": [
    {
     "data": {
      "text/plain": [
       "True"
      ]
     },
     "execution_count": 114,
     "metadata": {},
     "output_type": "execute_result"
    }
   ],
   "source": [
    "5 >= -5\n"
   ]
  },
  {
   "cell_type": "code",
   "execution_count": 115,
   "id": "8dc4af54",
   "metadata": {},
   "outputs": [
    {
     "data": {
      "text/plain": [
       "True"
      ]
     },
     "execution_count": 115,
     "metadata": {},
     "output_type": "execute_result"
    }
   ],
   "source": [
    "True or \"42\"\n"
   ]
  },
  {
   "cell_type": "code",
   "execution_count": 116,
   "id": "d4b1e264",
   "metadata": {},
   "outputs": [
    {
     "data": {
      "text/plain": [
       "1"
      ]
     },
     "execution_count": 116,
     "metadata": {},
     "output_type": "execute_result"
    }
   ],
   "source": [
    "6 % 5\n",
    "\n"
   ]
  },
  {
   "cell_type": "code",
   "execution_count": 117,
   "id": "0a577175",
   "metadata": {},
   "outputs": [
    {
     "data": {
      "text/plain": [
       "False"
      ]
     },
     "execution_count": 117,
     "metadata": {},
     "output_type": "execute_result"
    }
   ],
   "source": [
    "5 < 4 and 1 == 1\n"
   ]
  },
  {
   "cell_type": "code",
   "execution_count": 118,
   "id": "0a47d8ef",
   "metadata": {},
   "outputs": [
    {
     "data": {
      "text/plain": [
       "False"
      ]
     },
     "execution_count": 118,
     "metadata": {},
     "output_type": "execute_result"
    }
   ],
   "source": [
    "'codeup' == 'codeup' and 'codeup' == 'Codeup'\n"
   ]
  },
  {
   "cell_type": "code",
   "execution_count": 119,
   "id": "b1838e84",
   "metadata": {},
   "outputs": [
    {
     "ename": "SyntaxError",
     "evalue": "invalid syntax (3850088429.py, line 1)",
     "output_type": "error",
     "traceback": [
      "\u001b[0;36m  Input \u001b[0;32mIn [119]\u001b[0;36m\u001b[0m\n\u001b[0;31m    4 >= 0 and 1 !== '1'\u001b[0m\n\u001b[0m                   ^\u001b[0m\n\u001b[0;31mSyntaxError\u001b[0m\u001b[0;31m:\u001b[0m invalid syntax\n"
     ]
    }
   ],
   "source": [
    "4 >= 0 and 1 !== '1'\n"
   ]
  },
  {
   "cell_type": "code",
   "execution_count": 120,
   "id": "c43bf16e",
   "metadata": {},
   "outputs": [
    {
     "data": {
      "text/plain": [
       "True"
      ]
     },
     "execution_count": 120,
     "metadata": {},
     "output_type": "execute_result"
    }
   ],
   "source": [
    "6 % 3 == 0\n"
   ]
  },
  {
   "cell_type": "code",
   "execution_count": 121,
   "id": "488c1c88",
   "metadata": {},
   "outputs": [
    {
     "data": {
      "text/plain": [
       "True"
      ]
     },
     "execution_count": 121,
     "metadata": {},
     "output_type": "execute_result"
    }
   ],
   "source": [
    "5 % 2 != 0\n"
   ]
  },
  {
   "cell_type": "code",
   "execution_count": null,
   "id": "8893de4f",
   "metadata": {},
   "outputs": [],
   "source": [
    "[1] + 2\n"
   ]
  },
  {
   "cell_type": "code",
   "execution_count": null,
   "id": "390a7726",
   "metadata": {},
   "outputs": [],
   "source": [
    "[1] + [2]\n",
    "\n"
   ]
  },
  {
   "cell_type": "code",
   "execution_count": null,
   "id": "6e41c4a1",
   "metadata": {},
   "outputs": [],
   "source": [
    "[1] * 2\n"
   ]
  },
  {
   "cell_type": "code",
   "execution_count": null,
   "id": "931a4319",
   "metadata": {},
   "outputs": [],
   "source": [
    "[1] * [2]\n"
   ]
  },
  {
   "cell_type": "code",
   "execution_count": null,
   "id": "0c7a2911",
   "metadata": {},
   "outputs": [],
   "source": [
    "[] + [] == []\n"
   ]
  },
  {
   "cell_type": "code",
   "execution_count": null,
   "id": "d19e5b1b",
   "metadata": {},
   "outputs": [],
   "source": [
    "{} + {}\n"
   ]
  },
  {
   "cell_type": "markdown",
   "id": "f2811eb1",
   "metadata": {},
   "source": [
    "####  5. You have rented some movies for your kids:\n",
    "\n",
    "* The Little Mermaid for 3 days\n",
    "* Brother Bear for 5 days\n",
    "* Hercules for 1 day\n",
    "* If the daily fee to rent a movie is 3 dollars, how much will you have to pay?"
   ]
  },
  {
   "cell_type": "code",
   "execution_count": 1,
   "id": "e974378a",
   "metadata": {},
   "outputs": [],
   "source": [
    "the_little_mermaid = 3"
   ]
  },
  {
   "cell_type": "code",
   "execution_count": 10,
   "id": "85686a0f",
   "metadata": {},
   "outputs": [],
   "source": [
    "brother_bear = 5"
   ]
  },
  {
   "cell_type": "code",
   "execution_count": 6,
   "id": "06095da3",
   "metadata": {},
   "outputs": [],
   "source": [
    "hercules = 1"
   ]
  },
  {
   "cell_type": "code",
   "execution_count": 7,
   "id": "bcd3535b",
   "metadata": {},
   "outputs": [],
   "source": [
    "daily_fee = 3"
   ]
  },
  {
   "cell_type": "code",
   "execution_count": 15,
   "id": "00b44c41",
   "metadata": {},
   "outputs": [],
   "source": [
    "total_fee = (the_little_mermaid+brother_bear+hercules) * daily_fee"
   ]
  },
  {
   "cell_type": "code",
   "execution_count": 16,
   "id": "eb8f1d66",
   "metadata": {},
   "outputs": [
    {
     "data": {
      "text/plain": [
       "27"
      ]
     },
     "execution_count": 16,
     "metadata": {},
     "output_type": "execute_result"
    }
   ],
   "source": [
    "total_fee"
   ]
  },
  {
   "cell_type": "markdown",
   "id": "b262a925",
   "metadata": {},
   "source": [
    "### 6. Suppose you're working as a contractor for 3 companies: Google, Amazon and Facebook.\n",
    "\n",
    "They pay you the following hourly rates:\n",
    "\n",
    "* Google: 400 dollars\n",
    "* Amazon: 380 dollars\n",
    "* Facebook: 350 dollars\n",
    "* This week you worked: 10 hours for Facebook, 6 hours for Google and 4 hours for Amazon.\n",
    "\n",
    "How much will you receive in payment for this week?\n",
    "\n"
   ]
  },
  {
   "cell_type": "code",
   "execution_count": 17,
   "id": "441b0a49",
   "metadata": {},
   "outputs": [],
   "source": [
    "google = 400\n",
    "amazon = 380\n",
    "facebook = 350"
   ]
  },
  {
   "cell_type": "code",
   "execution_count": 31,
   "id": "9af1d624",
   "metadata": {},
   "outputs": [],
   "source": [
    "hrs_google = google * 6"
   ]
  },
  {
   "cell_type": "code",
   "execution_count": 33,
   "id": "3b4a901e",
   "metadata": {},
   "outputs": [],
   "source": [
    "hrs_amazon = amazon * 4"
   ]
  },
  {
   "cell_type": "code",
   "execution_count": 34,
   "id": "b18c3a52",
   "metadata": {},
   "outputs": [],
   "source": [
    "hrs_facebook = facebook * 10"
   ]
  },
  {
   "cell_type": "code",
   "execution_count": 123,
   "id": "33b7b726",
   "metadata": {},
   "outputs": [],
   "source": [
    "week_pay = hrs_google+hrs_amazon+hrs_facebook"
   ]
  },
  {
   "cell_type": "code",
   "execution_count": 124,
   "id": "b0f3ae81",
   "metadata": {},
   "outputs": [
    {
     "data": {
      "text/plain": [
       "7420"
      ]
     },
     "execution_count": 124,
     "metadata": {},
     "output_type": "execute_result"
    }
   ],
   "source": [
    "week_pay"
   ]
  },
  {
   "cell_type": "markdown",
   "id": "123ea350",
   "metadata": {},
   "source": [
    "### 7. A student can be enrolled to a class only if the class is not full and the class schedule does not conflict with her current schedule."
   ]
  },
  {
   "cell_type": "code",
   "execution_count": 91,
   "id": "c0e5873c",
   "metadata": {},
   "outputs": [
    {
     "name": "stdout",
     "output_type": "stream",
     "text": [
      "True\n"
     ]
    }
   ],
   "source": [
    "class_not_full = True \n",
    "open_schedule = True\n",
    "enrolled = class_not_full and open_schedule\n",
    "print(enrolled)"
   ]
  },
  {
   "cell_type": "markdown",
   "id": "0ecc27cd",
   "metadata": {},
   "source": [
    "#### 8. A product offer can be applied only if people buys more than 2 items, and the offer has not expired. Premium members do not need to buy a specific amount of products.\n",
    "\n"
   ]
  },
  {
   "cell_type": "code",
   "execution_count": 127,
   "id": "607f2c55",
   "metadata": {},
   "outputs": [],
   "source": [
    "premium_member = True\n",
    "more_than_two_items = True\n",
    "coupon_not_expired = True"
   ]
  },
  {
   "cell_type": "code",
   "execution_count": 128,
   "id": "22892768",
   "metadata": {},
   "outputs": [
    {
     "data": {
      "text/plain": [
       "True"
      ]
     },
     "execution_count": 128,
     "metadata": {},
     "output_type": "execute_result"
    }
   ],
   "source": [
    "coupon_not_expired and (more_than_two_items or premium_member)"
   ]
  },
  {
   "cell_type": "markdown",
   "id": "c2ac9fd2",
   "metadata": {},
   "source": [
    "#### 9. Create a variable that holds a boolean value for each of the following conditions:\n",
    "\n",
    "* The password must be at least 5 characters\n",
    "* The username must be no more than 20 characters\n",
    "* The password must not be the same as the username\n",
    "* Bonus Neither the username or password can start or end with whitespace"
   ]
  },
  {
   "cell_type": "code",
   "execution_count": 74,
   "id": "185f7ba8",
   "metadata": {},
   "outputs": [],
   "source": [
    "username = 'codeup'\n",
    "password = 'notastrongpassword'"
   ]
  },
  {
   "cell_type": "code",
   "execution_count": 130,
   "id": "05253a3a",
   "metadata": {},
   "outputs": [],
   "source": [
    "pw_length = len(password) >=5"
   ]
  },
  {
   "cell_type": "code",
   "execution_count": 131,
   "id": "30ace0f6",
   "metadata": {},
   "outputs": [
    {
     "data": {
      "text/plain": [
       "True"
      ]
     },
     "execution_count": 131,
     "metadata": {},
     "output_type": "execute_result"
    }
   ],
   "source": [
    "pw_length"
   ]
  },
  {
   "cell_type": "code",
   "execution_count": 102,
   "id": "978dbb0a",
   "metadata": {},
   "outputs": [],
   "source": [
    "username_length = len(username) <= 20"
   ]
  },
  {
   "cell_type": "code",
   "execution_count": 133,
   "id": "1992851c",
   "metadata": {},
   "outputs": [
    {
     "data": {
      "text/plain": [
       "True"
      ]
     },
     "execution_count": 133,
     "metadata": {},
     "output_type": "execute_result"
    }
   ],
   "source": [
    "username_length"
   ]
  },
  {
   "cell_type": "code",
   "execution_count": 104,
   "id": "dc41f6bd",
   "metadata": {},
   "outputs": [
    {
     "name": "stdout",
     "output_type": "stream",
     "text": [
      "True\n"
     ]
    }
   ],
   "source": [
    "updated_information = password != username\n",
    "print(updated_information)"
   ]
  }
 ],
 "metadata": {
  "kernelspec": {
   "display_name": "Python 3 (ipykernel)",
   "language": "python",
   "name": "python3"
  },
  "language_info": {
   "codemirror_mode": {
    "name": "ipython",
    "version": 3
   },
   "file_extension": ".py",
   "mimetype": "text/x-python",
   "name": "python",
   "nbconvert_exporter": "python",
   "pygments_lexer": "ipython3",
   "version": "3.9.13"
  }
 },
 "nbformat": 4,
 "nbformat_minor": 5
}
